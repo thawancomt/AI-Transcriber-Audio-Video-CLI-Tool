{
 "cells": [
  {
   "cell_type": "code",
   "execution_count": 103,
   "id": "612ad5c7",
   "metadata": {},
   "outputs": [],
   "source": [
    "import os\n",
    "import shutil\n",
    "import sys"
   ]
  },
  {
   "cell_type": "code",
   "execution_count": 104,
   "id": "59ba7608",
   "metadata": {},
   "outputs": [
    {
     "name": "stdout",
     "output_type": "stream",
     "text": [
      "['a4.mp4', 'a4.srt', 'app.py', 'audio.mp3', 'files.ipynb', 'hello.py', 'pyproject.toml', 'README.md', 'sdlc.mp4', 'sdlc.srt', 'transcript.srt', 'uv.lock']\n",
      "We got 8, and the types are: ['mp4', 'mp3', 'srt', 'py', 'ipynb', 'toml', 'md', 'lock']\n"
     ]
    }
   ],
   "source": [
    "# Listing files on directory\n",
    "\n",
    "all_files = [file for file in os.listdir() if not os.path.isdir(file)]\n",
    "\n",
    "# exclude hidden files (started with \".\")\n",
    "\n",
    "non_hidden_all_files = [file for file in all_files if not file.startswith((\".\", \"_\"))]\n",
    "\n",
    "existent_types = set([file_type.split(\".\")[-1] for file_type in non_hidden_all_files])\n",
    "\n",
    "print(non_hidden_all_files)\n",
    "\n",
    "print(f\"We got {len(existent_types)}, and the types are: {[file_type for file_type in existent_types]}\")"
   ]
  },
  {
   "cell_type": "code",
   "execution_count": 105,
   "id": "1b3ee66e",
   "metadata": {},
   "outputs": [],
   "source": [
    "temp_files_object: dict = {}\n",
    "\n",
    "for file in non_hidden_all_files:\n",
    "    if file.split(\".\")[-1] not in temp_files_object:\n",
    "        temp_files_object[file.split(\".\")[-1]] = [file]\n",
    "    else:\n",
    "        temp_files_object[file.split(\".\")[-1]].append(file)\n"
   ]
  },
  {
   "cell_type": "code",
   "execution_count": 106,
   "id": "257235eb",
   "metadata": {},
   "outputs": [
    {
     "data": {
      "text/plain": [
       "{'mp4': ['a4.mp4', 'sdlc.mp4'],\n",
       " 'srt': ['a4.srt', 'sdlc.srt', 'transcript.srt'],\n",
       " 'py': ['app.py', 'hello.py'],\n",
       " 'mp3': ['audio.mp3'],\n",
       " 'ipynb': ['files.ipynb'],\n",
       " 'toml': ['pyproject.toml'],\n",
       " 'md': ['README.md'],\n",
       " 'lock': ['uv.lock']}"
      ]
     },
     "execution_count": 106,
     "metadata": {},
     "output_type": "execute_result"
    }
   ],
   "source": [
    "temp_files_object"
   ]
  },
  {
   "cell_type": "code",
   "execution_count": 116,
   "id": "589e8442",
   "metadata": {},
   "outputs": [
    {
     "name": "stdout",
     "output_type": "stream",
     "text": [
      "Pasta para arquivos mp4 ja existe... pulando etapa de criação\n",
      "Pasta para arquivos mp3 ja existe... pulando etapa de criação\n",
      "Pasta para arquivos srt ja existe... pulando etapa de criação\n",
      "Pasta para arquivos py ja existe... pulando etapa de criação\n",
      "Pasta para arquivos ipynb ja existe... pulando etapa de criação\n",
      "Pasta para arquivos toml ja existe... pulando etapa de criação\n",
      "Pasta para arquivos md ja existe... pulando etapa de criação\n",
      "Pasta para arquivos lock ja existe... pulando etapa de criação\n",
      "Arquivo: a4.mp4 ja existe\n",
      "Arquivo: sdlc.mp4 ja existe\n",
      "Arquivo: a4.srt ja existe\n",
      "Arquivo: sdlc.srt ja existe\n",
      "Arquivo: transcript.srt ja existe\n",
      "Arquivo: app.py ja existe\n",
      "Arquivo: hello.py ja existe\n",
      "Arquivo: audio.mp3 ja existe\n",
      "Arquivo: files.ipynb ja existe\n",
      "Arquivo: pyproject.toml ja existe\n",
      "Arquivo: README.md ja existe\n",
      "Arquivo: uv.lock ja existe\n",
      "14 arquivos analisados, dos quais 2 são arquivos ocultos (foram descartados da operação)\n",
      "Para esta operação foram necessarias o uso e/ou criação de 8 pastas\n",
      "Nomeadamente: ['/mp4', '/mp3', '/srt', '/py', '/ipynb', '/toml', '/md', '/lock']\n"
     ]
    }
   ],
   "source": [
    "for file_type in existent_types:\n",
    "    if os.path.exists(file_type) and os.path.isdir(file_type):\n",
    "        pass\n",
    "    \n",
    "    # Creating dirs\n",
    "    try:\n",
    "        os.makedirs(file_type, exist_ok=False)\n",
    "        print(f\"Pasta para arquivos {file_type} criada\")\n",
    "    except FileExistsError as e:\n",
    "        print(f\"Pasta para arquivos {file_type} ja existe... pulando etapa de criação\")\n",
    "        continue\n",
    "    \n",
    "for file_type, files in temp_files_object.items():\n",
    "    # Moving file to respective directory\n",
    "    for file in files:\n",
    "        \n",
    "        #Check if file with this name already exists\n",
    "        if os.path.exists(f\"./{file_type}/{file}\"):\n",
    "            sys.stdout.write(f\"Arquivo: {file} ja existe\\n\")\n",
    "        \n",
    "        # Move file\n",
    "        else:\n",
    "            sys.stdout.write(f\"Moving ./{file} to ./{file_type}\\n\")\n",
    "            shutil.copy(f\"./{file}\", f\"./{file_type}\") \n",
    "            \n",
    "        sys.stdout.flush()\n",
    "            \n",
    "print(f\"{len(all_files)} arquivos analisados, dos quais {len(all_files) - len(non_hidden_all_files)} são arquivos ocultos (foram descartados da operação)\")\n",
    "print(f\"Para esta operação foram necessarias o uso e/ou criação de {len(existent_types)} pastas\")\n",
    "print(f\"Nomeadamente: {[f\"/{directory}\" for directory in existent_types]}\")"
   ]
  },
  {
   "cell_type": "code",
   "execution_count": null,
   "id": "fa67ec09",
   "metadata": {},
   "outputs": [],
   "source": [
    "#"
   ]
  }
 ],
 "metadata": {
  "kernelspec": {
   "display_name": "whisper-transcript",
   "language": "python",
   "name": "python3"
  },
  "language_info": {
   "codemirror_mode": {
    "name": "ipython",
    "version": 3
   },
   "file_extension": ".py",
   "mimetype": "text/x-python",
   "name": "python",
   "nbconvert_exporter": "python",
   "pygments_lexer": "ipython3",
   "version": "3.12.8"
  }
 },
 "nbformat": 4,
 "nbformat_minor": 5
}
